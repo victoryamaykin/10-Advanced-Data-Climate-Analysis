{
 "cells": [
  {
   "cell_type": "code",
   "execution_count": 100,
   "metadata": {},
   "outputs": [],
   "source": [
    "%matplotlib inline\n",
    "from matplotlib import style\n",
    "style.use('fivethirtyeight')\n",
    "import matplotlib.pyplot as plt\n",
    "import seaborn as sns\n",
    "from pandas.plotting import table"
   ]
  },
  {
   "cell_type": "code",
   "execution_count": 2,
   "metadata": {},
   "outputs": [],
   "source": [
    "import numpy as np\n",
    "import pandas as pd"
   ]
  },
  {
   "cell_type": "code",
   "execution_count": 3,
   "metadata": {},
   "outputs": [],
   "source": [
    "import datetime as dt"
   ]
  },
  {
   "cell_type": "markdown",
   "metadata": {},
   "source": [
    "# Reflect Tables into SQLAlchemy ORM"
   ]
  },
  {
   "cell_type": "code",
   "execution_count": 4,
   "metadata": {},
   "outputs": [],
   "source": [
    "# Python SQL toolkit and Object Relational Mapper\n",
    "import sqlalchemy\n",
    "from sqlalchemy.ext.automap import automap_base\n",
    "from sqlalchemy.orm import Session\n",
    "from sqlalchemy import create_engine, func"
   ]
  },
  {
   "cell_type": "code",
   "execution_count": 5,
   "metadata": {},
   "outputs": [],
   "source": [
    "engine = create_engine(\"sqlite:///Resources/hawaii.sqlite\")"
   ]
  },
  {
   "cell_type": "code",
   "execution_count": 6,
   "metadata": {},
   "outputs": [],
   "source": [
    "# reflect an existing database into a new model\n",
    "Base = automap_base()\n",
    "# reflect the tables\n",
    "Base.prepare(engine, reflect=True)"
   ]
  },
  {
   "cell_type": "code",
   "execution_count": 7,
   "metadata": {},
   "outputs": [
    {
     "data": {
      "text/plain": [
       "['measurement', 'station']"
      ]
     },
     "execution_count": 7,
     "metadata": {},
     "output_type": "execute_result"
    }
   ],
   "source": [
    "# We can view all of the classes that automap found\n",
    "Base.classes.keys()"
   ]
  },
  {
   "cell_type": "code",
   "execution_count": 8,
   "metadata": {},
   "outputs": [],
   "source": [
    "# Save references to each table\n",
    "Measurement = Base.classes.measurement\n",
    "Station = Base.classes.station"
   ]
  },
  {
   "cell_type": "code",
   "execution_count": 9,
   "metadata": {},
   "outputs": [],
   "source": [
    "# Create our session (link) from Python to the DB\n",
    "session = Session(engine)"
   ]
  },
  {
   "cell_type": "markdown",
   "metadata": {},
   "source": [
    "# Exploratory Climate Analysis"
   ]
  },
  {
   "cell_type": "code",
   "execution_count": 10,
   "metadata": {},
   "outputs": [
    {
     "name": "stdout",
     "output_type": "stream",
     "text": [
      "('2017-08-23', 0.0)\n"
     ]
    }
   ],
   "source": [
    "# Design a query to retrieve the last 12 months of precipitation data and plot the results\n",
    "last_date = session.query(Measurement.date, Measurement.prcp).\\\n",
    "    order_by(Measurement.date.desc()).first()\n",
    "print(last_date)"
   ]
  },
  {
   "cell_type": "code",
   "execution_count": 13,
   "metadata": {},
   "outputs": [
    {
     "name": "stdout",
     "output_type": "stream",
     "text": [
      "2016-08-23\n"
     ]
    }
   ],
   "source": [
    "# Calculate the date 1 year ago from the last data point in the database\n",
    "year_ago = dt.date(2017,8,23) - dt.timedelta(days=365)\n",
    "print(year_ago)"
   ]
  },
  {
   "cell_type": "code",
   "execution_count": 315,
   "metadata": {},
   "outputs": [
    {
     "data": {
      "text/plain": [
       "{'2017-08-23': 0.0,\n",
       " '2017-08-22': 0.0,\n",
       " '2017-08-21': 0.0,\n",
       " '2017-08-20': 0.0,\n",
       " '2017-08-19': 0.0,\n",
       " '2017-08-18': 0.0,\n",
       " '2017-08-17': 0.0,\n",
       " '2017-08-16': 0.0,\n",
       " '2017-08-15': 0.02,\n",
       " '2017-08-14': 0.0,\n",
       " '2017-08-13': 0.0,\n",
       " '2017-08-12': 0.0,\n",
       " '2017-08-11': 0.0,\n",
       " '2017-08-10': 0.0,\n",
       " '2017-08-09': 0.0,\n",
       " '2017-08-08': 0.0,\n",
       " '2017-08-07': 0.0,\n",
       " '2017-08-06': 0.0,\n",
       " '2017-08-05': 0.0,\n",
       " '2017-08-04': 0.02,\n",
       " '2017-08-03': 0.0,\n",
       " '2017-08-02': 0.0,\n",
       " '2017-08-01': 0.02,\n",
       " '2017-07-31': 0.0,\n",
       " '2017-07-30': 0.0,\n",
       " '2017-07-29': 0.0,\n",
       " '2017-07-28': 0.0,\n",
       " '2017-07-27': 0.0,\n",
       " '2017-07-26': 0.0,\n",
       " '2017-07-25': 0.0,\n",
       " '2017-07-24': 0.05,\n",
       " '2017-07-23': 0.0,\n",
       " '2017-07-22': 0.03,\n",
       " '2017-07-21': 0.0,\n",
       " '2017-07-20': 0.03,\n",
       " '2017-07-19': 0.0,\n",
       " '2017-07-18': 0.05,\n",
       " '2017-07-17': 0.03,\n",
       " '2017-07-16': 0.02,\n",
       " '2017-07-15': 0.0,\n",
       " '2017-07-14': 0.02,\n",
       " '2017-07-13': 0.07,\n",
       " '2017-07-12': 0.0,\n",
       " '2017-07-11': 0.0,\n",
       " '2017-07-10': 0.0,\n",
       " '2017-07-09': 0.0,\n",
       " '2017-07-08': 0.0,\n",
       " '2017-07-07': 0.0,\n",
       " '2017-07-06': 0.0,\n",
       " '2017-07-05': 0.0,\n",
       " '2017-07-04': 0.04,\n",
       " '2017-07-03': 0.04,\n",
       " '2017-07-02': 0.02,\n",
       " '2017-07-01': 0.02,\n",
       " '2017-06-30': 0.08,\n",
       " '2017-06-29': 0.0,\n",
       " '2017-06-28': 0.0,\n",
       " '2017-06-27': 0.0,\n",
       " '2017-06-26': 0.0,\n",
       " '2017-06-25': 0.0,\n",
       " '2017-06-24': 0.06,\n",
       " '2017-06-23': 0.0,\n",
       " '2017-06-22': 0.0,\n",
       " '2017-06-21': 0.0,\n",
       " '2017-06-20': 0.02,\n",
       " '2017-06-19': 0.0,\n",
       " '2017-06-18': 0.05,\n",
       " '2017-06-17': 0.0,\n",
       " '2017-06-16': 0.0,\n",
       " '2017-06-15': 0.0,\n",
       " '2017-06-14': 0.0,\n",
       " '2017-06-13': 0.0,\n",
       " '2017-06-12': 0.02,\n",
       " '2017-06-11': 0.08,\n",
       " '2017-06-10': 0.04,\n",
       " '2017-06-09': 0.0,\n",
       " '2017-06-08': 0.0,\n",
       " '2017-06-07': 0.0,\n",
       " '2017-06-06': 0.0,\n",
       " '2017-06-05': 0.0,\n",
       " '2017-06-04': 0.0,\n",
       " '2017-06-03': 0.02,\n",
       " '2017-06-02': 0.0,\n",
       " '2017-06-01': 0.0,\n",
       " '2017-05-31': 0.02,\n",
       " '2017-05-30': 0.26,\n",
       " '2017-05-29': 0.0,\n",
       " '2017-05-28': 0.02,\n",
       " '2017-05-27': 0.01,\n",
       " '2017-05-26': 0.02,\n",
       " '2017-05-25': 0.15,\n",
       " '2017-05-24': 0.13,\n",
       " '2017-05-23': 0.08,\n",
       " '2017-05-22': 0.0,\n",
       " '2017-05-21': 0.0,\n",
       " '2017-05-20': 0.0,\n",
       " '2017-05-19': 0.0,\n",
       " '2017-05-18': 0.01,\n",
       " '2017-05-17': 0.0,\n",
       " '2017-05-16': 0.01,\n",
       " '2017-05-15': 0.05,\n",
       " '2017-05-14': 0.0,\n",
       " '2017-05-13': 0.0,\n",
       " '2017-05-12': 0.0,\n",
       " '2017-05-11': 0.01,\n",
       " '2017-05-10': 0.0,\n",
       " '2017-05-09': 1.62,\n",
       " '2017-05-08': 0.0,\n",
       " '2017-05-07': 0.0,\n",
       " '2017-05-06': 0.0,\n",
       " '2017-05-05': 0.0,\n",
       " '2017-05-04': 0.0,\n",
       " '2017-05-03': 0.0,\n",
       " '2017-05-02': 0.0,\n",
       " '2017-05-01': 0.26,\n",
       " '2017-04-30': 0.89,\n",
       " '2017-04-29': 0.12,\n",
       " '2017-04-28': 0.0,\n",
       " '2017-04-27': 0.0,\n",
       " '2017-04-26': 0.0,\n",
       " '2017-04-25': 0.0,\n",
       " '2017-04-24': 0.0,\n",
       " '2017-04-23': 0.03,\n",
       " '2017-04-22': 0.32,\n",
       " '2017-04-21': 0.23,\n",
       " '2017-04-20': 0.05,\n",
       " '2017-04-19': 0.02,\n",
       " '2017-04-18': 0.0,\n",
       " '2017-04-17': 0.02,\n",
       " '2017-04-16': 0.0,\n",
       " '2017-04-15': 0.01,\n",
       " '2017-04-14': 0.26,\n",
       " '2017-04-13': 0.0,\n",
       " '2017-04-12': 0.0,\n",
       " '2017-04-11': 0.0,\n",
       " '2017-04-10': 0.0,\n",
       " '2017-04-09': 0.0,\n",
       " '2017-04-08': 0.0,\n",
       " '2017-04-07': 0.0,\n",
       " '2017-04-06': 0.0,\n",
       " '2017-04-05': 0.0,\n",
       " '2017-04-04': 0.0,\n",
       " '2017-04-03': 0.0,\n",
       " '2017-04-02': 0.0,\n",
       " '2017-04-01': 0.0,\n",
       " '2017-03-31': 0.0,\n",
       " '2017-03-30': 0.0,\n",
       " '2017-03-29': 0.0,\n",
       " '2017-03-28': 0.0,\n",
       " '2017-03-27': 0.0,\n",
       " '2017-03-26': 0.0,\n",
       " '2017-03-25': 0.0,\n",
       " '2017-03-24': 0.02,\n",
       " '2017-03-23': 0.0,\n",
       " '2017-03-22': 0.0,\n",
       " '2017-03-21': 0.0,\n",
       " '2017-03-20': 0.0,\n",
       " '2017-03-19': 0.0,\n",
       " '2017-03-18': 0.0,\n",
       " '2017-03-17': 0.0,\n",
       " '2017-03-16': 0.0,\n",
       " '2017-03-15': 0.0,\n",
       " '2017-03-14': 0.0,\n",
       " '2017-03-13': 0.0,\n",
       " '2017-03-12': 0.0,\n",
       " '2017-03-11': 0.0,\n",
       " '2017-03-10': 0.0,\n",
       " '2017-03-09': 0.0,\n",
       " '2017-03-08': 0.0,\n",
       " '2017-03-07': 0.0,\n",
       " '2017-03-06': 0.0,\n",
       " '2017-03-05': 0.35,\n",
       " '2017-03-04': 0.0,\n",
       " '2017-03-03': 0.47,\n",
       " '2017-03-02': 0.73,\n",
       " '2017-03-01': 1.19,\n",
       " '2017-02-28': 0.0,\n",
       " '2017-02-27': 0.0,\n",
       " '2017-02-26': 0.0,\n",
       " '2017-02-25': 0.03,\n",
       " '2017-02-24': 0.0,\n",
       " '2017-02-23': 0.01,\n",
       " '2017-02-22': 0.06,\n",
       " '2017-02-21': 0.06,\n",
       " '2017-02-20': 0.0,\n",
       " '2017-02-19': 0.0,\n",
       " '2017-02-18': 0.0,\n",
       " '2017-02-17': 0.0,\n",
       " '2017-02-16': 0.07,\n",
       " '2017-02-15': 0.0,\n",
       " '2017-02-14': 0.0,\n",
       " '2017-02-13': 0.01,\n",
       " '2017-02-12': 2.62,\n",
       " '2017-02-11': 0.31,\n",
       " '2017-02-10': 0.0,\n",
       " '2017-02-09': 0.0,\n",
       " '2017-02-08': 0.0,\n",
       " '2017-02-07': 0.51,\n",
       " '2017-02-06': 0.0,\n",
       " '2017-02-05': 0.0,\n",
       " '2017-02-04': 0.0,\n",
       " '2017-02-03': 0.0,\n",
       " '2017-02-02': 0.0,\n",
       " '2017-02-01': 0.0,\n",
       " '2017-01-31': 0.0,\n",
       " '2017-01-30': 0.0,\n",
       " '2017-01-29': 0.18,\n",
       " '2017-01-28': 0.0,\n",
       " '2017-01-27': 0.0,\n",
       " '2017-01-26': 0.0,\n",
       " '2017-01-25': 0.03,\n",
       " '2017-01-24': 0.04,\n",
       " '2017-01-23': 0.0,\n",
       " '2017-01-22': 0.16,\n",
       " '2017-01-21': 0.0,\n",
       " '2017-01-20': 0.0,\n",
       " '2017-01-19': 0.0,\n",
       " '2017-01-18': 0.0,\n",
       " '2017-01-17': 0.0,\n",
       " '2017-01-16': 0.0,\n",
       " '2017-01-15': 0.0,\n",
       " '2017-01-14': 0.0,\n",
       " '2017-01-13': 0.0,\n",
       " '2017-01-12': 0.0,\n",
       " '2017-01-11': 0.0,\n",
       " '2017-01-10': 0.0,\n",
       " '2017-01-09': 0.0,\n",
       " '2017-01-08': 0.0,\n",
       " '2017-01-07': 0.0,\n",
       " '2017-01-06': 0.0,\n",
       " '2017-01-05': 0.0,\n",
       " '2017-01-04': 0.0,\n",
       " '2017-01-03': 0.0,\n",
       " '2017-01-02': 0.0,\n",
       " '2017-01-01': 0.0,\n",
       " '2016-12-31': 0.01,\n",
       " '2016-12-30': 0.12,\n",
       " '2016-12-29': 0.04,\n",
       " '2016-12-28': 0.02,\n",
       " '2016-12-27': 0.0,\n",
       " '2016-12-26': 0.02,\n",
       " '2016-12-25': 0.0,\n",
       " '2016-12-24': 0.01,\n",
       " '2016-12-23': 0.01,\n",
       " '2016-12-22': 0.01,\n",
       " '2016-12-21': 0.0,\n",
       " '2016-12-20': 0.0,\n",
       " '2016-12-19': 0.01,\n",
       " '2016-12-18': 0.13,\n",
       " '2016-12-17': 0.01,\n",
       " '2016-12-16': 0.0,\n",
       " '2016-12-15': 0.0,\n",
       " '2016-12-14': 0.03,\n",
       " '2016-12-13': 0.05,\n",
       " '2016-12-12': 0.01,\n",
       " '2016-12-11': 0.04,\n",
       " '2016-12-10': 0.05,\n",
       " '2016-12-09': 0.52,\n",
       " '2016-12-08': 0.03,\n",
       " '2016-12-07': 0.0,\n",
       " '2016-12-06': 0.02,\n",
       " '2016-12-05': 0.43,\n",
       " '2016-12-04': 0.03,\n",
       " '2016-12-03': 0.0,\n",
       " '2016-12-02': 0.03,\n",
       " '2016-12-01': 0.12,\n",
       " '2016-11-30': 0.14,\n",
       " '2016-11-29': 0.0,\n",
       " '2016-11-28': 0.01,\n",
       " '2016-11-27': 0.0,\n",
       " '2016-11-26': 0.05,\n",
       " '2016-11-25': 0.05,\n",
       " '2016-11-24': 0.05,\n",
       " '2016-11-23': 0.14,\n",
       " '2016-11-22': 0.13,\n",
       " '2016-11-21': 0.01,\n",
       " '2016-11-20': 0.05,\n",
       " '2016-11-19': 0.03,\n",
       " '2016-11-18': 0.0,\n",
       " '2016-11-17': 0.0,\n",
       " '2016-11-16': 0.0,\n",
       " '2016-11-15': 0.0,\n",
       " '2016-11-14': 0.0,\n",
       " '2016-11-13': 0.0,\n",
       " '2016-11-12': 0.0,\n",
       " '2016-11-11': 0.0,\n",
       " '2016-11-10': 0.0,\n",
       " '2016-11-09': 0.0,\n",
       " '2016-11-08': 0.07,\n",
       " '2016-11-07': 0.0,\n",
       " '2016-11-06': 0.0,\n",
       " '2016-11-05': 0.0,\n",
       " '2016-11-04': 0.0,\n",
       " '2016-11-03': 0.0,\n",
       " '2016-11-02': 0.0,\n",
       " '2016-11-01': 0.0,\n",
       " '2016-10-31': 0.03,\n",
       " '2016-10-30': 0.24,\n",
       " '2016-10-29': 0.0,\n",
       " '2016-10-28': 0.0,\n",
       " '2016-10-27': 0.0,\n",
       " '2016-10-26': 0.0,\n",
       " '2016-10-25': 0.03,\n",
       " '2016-10-24': 0.0,\n",
       " '2016-10-23': 0.01,\n",
       " '2016-10-22': 0.15,\n",
       " '2016-10-21': 0.05,\n",
       " '2016-10-20': 0.0,\n",
       " '2016-10-19': 0.0,\n",
       " '2016-10-18': 0.0,\n",
       " '2016-10-17': 0.01,\n",
       " '2016-10-16': 0.0,\n",
       " '2016-10-15': 0.0,\n",
       " '2016-10-14': 0.0,\n",
       " '2016-10-13': 0.0,\n",
       " '2016-10-12': 0.0,\n",
       " '2016-10-11': 0.0,\n",
       " '2016-10-10': 0.0,\n",
       " '2016-10-09': 0.0,\n",
       " '2016-10-08': 0.0,\n",
       " '2016-10-07': 0.0,\n",
       " '2016-10-06': 0.0,\n",
       " '2016-10-05': 0.0,\n",
       " '2016-10-04': 0.0,\n",
       " '2016-10-03': 0.0,\n",
       " '2016-10-02': 0.0,\n",
       " '2016-10-01': 0.0,\n",
       " '2016-09-30': 0.0,\n",
       " '2016-09-29': 0.0,\n",
       " '2016-09-28': 0.0,\n",
       " '2016-09-27': 0.02,\n",
       " '2016-09-26': 0.06,\n",
       " '2016-09-25': 0.0,\n",
       " '2016-09-24': 0.0,\n",
       " '2016-09-23': 0.0,\n",
       " '2016-09-22': 0.02,\n",
       " '2016-09-21': 0.0,\n",
       " '2016-09-20': 0.0,\n",
       " '2016-09-19': 0.0,\n",
       " '2016-09-18': 0.0,\n",
       " '2016-09-17': 0.05,\n",
       " '2016-09-16': 0.06,\n",
       " '2016-09-15': 0.42,\n",
       " '2016-09-14': 1.32,\n",
       " '2016-09-13': 0.02,\n",
       " '2016-09-12': 0.0,\n",
       " '2016-09-11': 0.05,\n",
       " '2016-09-10': 0.0,\n",
       " '2016-09-09': 0.03,\n",
       " '2016-09-08': 0.0,\n",
       " '2016-09-07': 0.05,\n",
       " '2016-09-06': None,\n",
       " '2016-09-05': None,\n",
       " '2016-09-04': 0.03,\n",
       " '2016-09-03': 0.0,\n",
       " '2016-09-02': 0.0,\n",
       " '2016-09-01': 0.0,\n",
       " '2016-08-31': 0.13,\n",
       " '2016-08-30': 0.0,\n",
       " '2016-08-29': 0.0,\n",
       " '2016-08-28': 0.01,\n",
       " '2016-08-27': 0.0,\n",
       " '2016-08-26': 0.0,\n",
       " '2016-08-25': 0.08,\n",
       " '2016-08-24': 0.08,\n",
       " '2016-08-23': 0.0}"
      ]
     },
     "execution_count": 315,
     "metadata": {},
     "output_type": "execute_result"
    }
   ],
   "source": [
    "# Perform a query to retrieve the data and precipitation scores\n",
    "results = session.query(Measurement.date, Measurement.prcp).\\\n",
    "    filter(Measurement.date >= year_ago).\\\n",
    "    group_by(Measurement.date).\\\n",
    "    order_by(Measurement.date.desc()).all()\n",
    "prcp = {date: prcp for date, prcp in results}\n",
    "prcp\n"
   ]
  },
  {
   "cell_type": "code",
   "execution_count": 178,
   "metadata": {},
   "outputs": [
    {
     "data": {
      "text/html": [
       "<div>\n",
       "<style scoped>\n",
       "    .dataframe tbody tr th:only-of-type {\n",
       "        vertical-align: middle;\n",
       "    }\n",
       "\n",
       "    .dataframe tbody tr th {\n",
       "        vertical-align: top;\n",
       "    }\n",
       "\n",
       "    .dataframe thead th {\n",
       "        text-align: right;\n",
       "    }\n",
       "</style>\n",
       "<table border=\"1\" class=\"dataframe\">\n",
       "  <thead>\n",
       "    <tr style=\"text-align: right;\">\n",
       "      <th></th>\n",
       "      <th>date</th>\n",
       "      <th>precipitation</th>\n",
       "    </tr>\n",
       "  </thead>\n",
       "  <tbody>\n",
       "    <tr>\n",
       "      <th>0</th>\n",
       "      <td>2017-08-23</td>\n",
       "      <td>0.00</td>\n",
       "    </tr>\n",
       "    <tr>\n",
       "      <th>1</th>\n",
       "      <td>2017-08-22</td>\n",
       "      <td>0.00</td>\n",
       "    </tr>\n",
       "    <tr>\n",
       "      <th>2</th>\n",
       "      <td>2017-08-21</td>\n",
       "      <td>0.00</td>\n",
       "    </tr>\n",
       "    <tr>\n",
       "      <th>3</th>\n",
       "      <td>2017-08-20</td>\n",
       "      <td>0.00</td>\n",
       "    </tr>\n",
       "    <tr>\n",
       "      <th>4</th>\n",
       "      <td>2017-08-19</td>\n",
       "      <td>0.00</td>\n",
       "    </tr>\n",
       "    <tr>\n",
       "      <th>5</th>\n",
       "      <td>2017-08-18</td>\n",
       "      <td>0.00</td>\n",
       "    </tr>\n",
       "    <tr>\n",
       "      <th>6</th>\n",
       "      <td>2017-08-17</td>\n",
       "      <td>0.00</td>\n",
       "    </tr>\n",
       "    <tr>\n",
       "      <th>7</th>\n",
       "      <td>2017-08-16</td>\n",
       "      <td>0.00</td>\n",
       "    </tr>\n",
       "    <tr>\n",
       "      <th>8</th>\n",
       "      <td>2017-08-15</td>\n",
       "      <td>0.02</td>\n",
       "    </tr>\n",
       "    <tr>\n",
       "      <th>9</th>\n",
       "      <td>2017-08-14</td>\n",
       "      <td>0.00</td>\n",
       "    </tr>\n",
       "  </tbody>\n",
       "</table>\n",
       "</div>"
      ],
      "text/plain": [
       "         date  precipitation\n",
       "0  2017-08-23           0.00\n",
       "1  2017-08-22           0.00\n",
       "2  2017-08-21           0.00\n",
       "3  2017-08-20           0.00\n",
       "4  2017-08-19           0.00\n",
       "5  2017-08-18           0.00\n",
       "6  2017-08-17           0.00\n",
       "7  2017-08-16           0.00\n",
       "8  2017-08-15           0.02\n",
       "9  2017-08-14           0.00"
      ]
     },
     "execution_count": 178,
     "metadata": {},
     "output_type": "execute_result"
    }
   ],
   "source": [
    "# Save the query results as a Pandas DataFrame and set the index to the date column\n",
    "df = pd.DataFrame(results, columns=['date', 'precipitation'])\n",
    "df.head(10)"
   ]
  },
  {
   "cell_type": "code",
   "execution_count": 48,
   "metadata": {},
   "outputs": [
    {
     "data": {
      "text/html": [
       "<div>\n",
       "<style scoped>\n",
       "    .dataframe tbody tr th:only-of-type {\n",
       "        vertical-align: middle;\n",
       "    }\n",
       "\n",
       "    .dataframe tbody tr th {\n",
       "        vertical-align: top;\n",
       "    }\n",
       "\n",
       "    .dataframe thead th {\n",
       "        text-align: right;\n",
       "    }\n",
       "</style>\n",
       "<table border=\"1\" class=\"dataframe\">\n",
       "  <thead>\n",
       "    <tr style=\"text-align: right;\">\n",
       "      <th></th>\n",
       "      <th>date</th>\n",
       "      <th>precipitation</th>\n",
       "    </tr>\n",
       "  </thead>\n",
       "  <tbody>\n",
       "    <tr>\n",
       "      <th>2229</th>\n",
       "      <td>2016-08-23</td>\n",
       "      <td>0.70</td>\n",
       "    </tr>\n",
       "    <tr>\n",
       "      <th>2223</th>\n",
       "      <td>2016-08-23</td>\n",
       "      <td>0.00</td>\n",
       "    </tr>\n",
       "    <tr>\n",
       "      <th>2224</th>\n",
       "      <td>2016-08-23</td>\n",
       "      <td>0.15</td>\n",
       "    </tr>\n",
       "    <tr>\n",
       "      <th>2228</th>\n",
       "      <td>2016-08-23</td>\n",
       "      <td>1.79</td>\n",
       "    </tr>\n",
       "    <tr>\n",
       "      <th>2227</th>\n",
       "      <td>2016-08-23</td>\n",
       "      <td>0.02</td>\n",
       "    </tr>\n",
       "    <tr>\n",
       "      <th>2225</th>\n",
       "      <td>2016-08-23</td>\n",
       "      <td>0.05</td>\n",
       "    </tr>\n",
       "    <tr>\n",
       "      <th>2222</th>\n",
       "      <td>2016-08-24</td>\n",
       "      <td>1.45</td>\n",
       "    </tr>\n",
       "    <tr>\n",
       "      <th>2221</th>\n",
       "      <td>2016-08-24</td>\n",
       "      <td>2.15</td>\n",
       "    </tr>\n",
       "    <tr>\n",
       "      <th>2220</th>\n",
       "      <td>2016-08-24</td>\n",
       "      <td>1.22</td>\n",
       "    </tr>\n",
       "    <tr>\n",
       "      <th>2218</th>\n",
       "      <td>2016-08-24</td>\n",
       "      <td>2.28</td>\n",
       "    </tr>\n",
       "  </tbody>\n",
       "</table>\n",
       "</div>"
      ],
      "text/plain": [
       "            date  precipitation\n",
       "2229  2016-08-23           0.70\n",
       "2223  2016-08-23           0.00\n",
       "2224  2016-08-23           0.15\n",
       "2228  2016-08-23           1.79\n",
       "2227  2016-08-23           0.02\n",
       "2225  2016-08-23           0.05\n",
       "2222  2016-08-24           1.45\n",
       "2221  2016-08-24           2.15\n",
       "2220  2016-08-24           1.22\n",
       "2218  2016-08-24           2.28"
      ]
     },
     "execution_count": 48,
     "metadata": {},
     "output_type": "execute_result"
    }
   ],
   "source": [
    "# Sort the dataframe by date\n",
    "df = df.sort_values(by='date')\n",
    "df = df.dropna(how=\"any\")\n",
    "df.head(10)"
   ]
  },
  {
   "cell_type": "code",
   "execution_count": 184,
   "metadata": {},
   "outputs": [
    {
     "data": {
      "image/png": "[encoded data removed]",
      "text/plain": [
       "<Figure size 432x288 with 1 Axes>"
      ]
     },
     "metadata": {},
     "output_type": "display_data"
    },
    {
     "data": {
      "text/plain": [
       "<Figure size 432x288 with 0 Axes>"
      ]
     },
     "metadata": {},
     "output_type": "display_data"
    }
   ],
   "source": [
    "# Use Pandas Plotting with Matplotlib to plot the data\n",
    "\n",
    "fig, ax = plt.subplots(1, 1)\n",
    "\n",
    "table(ax, np.round(df.describe(), 6), loc='upper right', colWidths=[0.195]) \n",
    "\n",
    "df.plot(ax=ax, x='date',y='precipitation', legend=False)\n",
    "\n",
    "ax.xaxis.grid(False)\n",
    "\n",
    "plt.legend(loc=\"upper center\")\n",
    "\n",
    "plt.show()\n",
    "\n",
    "#save the plot as a png file\n",
    "plt.savefig('Images/summary-precipitation-year-ago.png')"
   ]
  },
  {
   "cell_type": "markdown",
   "metadata": {},
   "source": [
    "![precipitation](Images/precipitation.png)"
   ]
  },
  {
   "cell_type": "code",
   "execution_count": 74,
   "metadata": {},
   "outputs": [
    {
     "data": {
      "text/html": [
       "<div>\n",
       "<style scoped>\n",
       "    .dataframe tbody tr th:only-of-type {\n",
       "        vertical-align: middle;\n",
       "    }\n",
       "\n",
       "    .dataframe tbody tr th {\n",
       "        vertical-align: top;\n",
       "    }\n",
       "\n",
       "    .dataframe thead th {\n",
       "        text-align: right;\n",
       "    }\n",
       "</style>\n",
       "<table border=\"1\" class=\"dataframe\">\n",
       "  <thead>\n",
       "    <tr style=\"text-align: right;\">\n",
       "      <th></th>\n",
       "      <th>precipitation</th>\n",
       "    </tr>\n",
       "  </thead>\n",
       "  <tbody>\n",
       "    <tr>\n",
       "      <th>count</th>\n",
       "      <td>2021.000000</td>\n",
       "    </tr>\n",
       "    <tr>\n",
       "      <th>mean</th>\n",
       "      <td>0.177279</td>\n",
       "    </tr>\n",
       "    <tr>\n",
       "      <th>std</th>\n",
       "      <td>0.461190</td>\n",
       "    </tr>\n",
       "    <tr>\n",
       "      <th>min</th>\n",
       "      <td>0.000000</td>\n",
       "    </tr>\n",
       "    <tr>\n",
       "      <th>25%</th>\n",
       "      <td>0.000000</td>\n",
       "    </tr>\n",
       "    <tr>\n",
       "      <th>50%</th>\n",
       "      <td>0.020000</td>\n",
       "    </tr>\n",
       "    <tr>\n",
       "      <th>75%</th>\n",
       "      <td>0.130000</td>\n",
       "    </tr>\n",
       "    <tr>\n",
       "      <th>max</th>\n",
       "      <td>6.700000</td>\n",
       "    </tr>\n",
       "  </tbody>\n",
       "</table>\n",
       "</div>"
      ],
      "text/plain": [
       "       precipitation\n",
       "count    2021.000000\n",
       "mean        0.177279\n",
       "std         0.461190\n",
       "min         0.000000\n",
       "25%         0.000000\n",
       "50%         0.020000\n",
       "75%         0.130000\n",
       "max         6.700000"
      ]
     },
     "execution_count": 74,
     "metadata": {},
     "output_type": "execute_result"
    }
   ],
   "source": [
    "# Use Pandas to calculate the summary statistics for the precipitation data\n",
    "\n",
    "df.describe()"
   ]
  },
  {
   "cell_type": "code",
   "execution_count": 152,
   "metadata": {},
   "outputs": [
    {
     "name": "stdout",
     "output_type": "stream",
     "text": [
      "9\n"
     ]
    }
   ],
   "source": [
    "# Design a query to show how many stations are available in this dataset?\n",
    "results = session.query(Measurement.station).distinct().count()\n",
    "print(results)"
   ]
  },
  {
   "cell_type": "code",
   "execution_count": 185,
   "metadata": {},
   "outputs": [
    {
     "data": {
      "text/plain": [
       "[('USC00519281', 2772),\n",
       " ('USC00519397', 2724),\n",
       " ('USC00513117', 2709),\n",
       " ('USC00519523', 2669),\n",
       " ('USC00516128', 2612),\n",
       " ('USC00514830', 2202),\n",
       " ('USC00511918', 1979),\n",
       " ('USC00517948', 1372),\n",
       " ('USC00518838', 511)]"
      ]
     },
     "execution_count": 185,
     "metadata": {},
     "output_type": "execute_result"
    }
   ],
   "source": [
    "# What are the most active stations? (i.e. what stations have the most rows)?\n",
    "# List the stations and the counts in descending order.\n",
    "\n",
    "session.query(Measurement.station, func.count(Measurement.station)).\\\n",
    "group_by(Measurement.station).\\\n",
    "order_by(func.count(Measurement.station).desc()).all()\n"
   ]
  },
  {
   "cell_type": "code",
   "execution_count": 175,
   "metadata": {},
   "outputs": [
    {
     "data": {
      "text/plain": [
       "'USC00519281'"
      ]
     },
     "execution_count": 175,
     "metadata": {},
     "output_type": "execute_result"
    }
   ],
   "source": [
    "most_active = session.query(Measurement.station, func.count(Measurement.station)).\\\n",
    "group_by(Measurement.station).\\\n",
    "order_by(func.count(Measurement.station).desc()).first()[0]\n",
    "\n",
    "most_active\n"
   ]
  },
  {
   "cell_type": "code",
   "execution_count": 176,
   "metadata": {},
   "outputs": [
    {
     "data": {
      "text/plain": [
       "[(54.0, 85.0, 71.66378066378067)]"
      ]
     },
     "execution_count": 176,
     "metadata": {},
     "output_type": "execute_result"
    }
   ],
   "source": [
    "# Using the station id from the previous query, calculate the lowest temperature recorded, \n",
    "# highest temperature recorded, and average temperature most active station?\n",
    "\n",
    "session.query(func.min(Measurement.tobs), func.max(Measurement.tobs), func.avg(Measurement.tobs)).\\\n",
    "        filter(Measurement.station == most_active).all()\n"
   ]
  },
  {
   "cell_type": "code",
   "execution_count": 284,
   "metadata": {},
   "outputs": [
    {
     "data": {
      "image/png": "[encoded data removed]",
      "text/plain": [
       "<Figure size 432x288 with 1 Axes>"
      ]
     },
     "metadata": {},
     "output_type": "display_data"
    },
    {
     "data": {
      "text/plain": [
       "<Figure size 432x288 with 0 Axes>"
      ]
     },
     "metadata": {},
     "output_type": "display_data"
    }
   ],
   "source": [
    "# Choose the station with the highest number of temperature observations.\n",
    "# Query the last 12 months of temperature observation data for this station and plot the results as a histogram\n",
    "\n",
    "results = session.query(Measurement.date, Measurement.tobs).\\\n",
    "    filter(Measurement.station == most_active).\\\n",
    "    filter(Measurement.date >= year_ago).\\\n",
    "    group_by(Measurement.date).\\\n",
    "    order_by(Measurement.date.desc()).all()\n",
    "\n",
    "df2 = pd.DataFrame(results, columns=[\"date\",\"tobs\"])\n",
    "\n",
    "df2.plot.hist(alpha=1, bins=12)\n",
    "plt.show()\n",
    "plt.savefig('Images/summary-highest-temp-most-active-station.png')"
   ]
  },
  {
   "cell_type": "code",
   "execution_count": 183,
   "metadata": {},
   "outputs": [
    {
     "name": "stdout",
     "output_type": "stream",
     "text": [
      "[(65.0, 74.77319587628865, 82.0)]\n"
     ]
    }
   ],
   "source": [
    "# This function called `calc_temps` will accept start date and end date in the format '%Y-%m-%d' \n",
    "# and return the minimum, average, and maximum temperatures for that range of dates\n",
    "def calc_temps(start_date, end_date):\n",
    "    \"\"\"TMIN, TAVG, and TMAX for a list of dates.\n",
    "    \n",
    "    Args:\n",
    "        start_date (string): A date string in the format %Y-%m-%d\n",
    "        end_date (string): A date string in the format %Y-%m-%d\n",
    "        \n",
    "    Returns:\n",
    "        TMIN, TAVE, and TMAX\n",
    "    \"\"\"\n",
    "    \n",
    "    return session.query(func.min(Measurement.tobs), func.avg(Measurement.tobs), func.max(Measurement.tobs)).\\\n",
    "        filter(Measurement.date >= start_date).filter(Measurement.date <= end_date).all()\n",
    "\n",
    "# function usage example\n",
    "    print(calc_temps('2012-08-09', '2012-08-23'))"
   ]
  },
  {
   "cell_type": "code",
   "execution_count": 227,
   "metadata": {},
   "outputs": [
    {
     "name": "stdout",
     "output_type": "stream",
     "text": [
      "[(70.0, 78.64406779661017, 85.0)]\n"
     ]
    }
   ],
   "source": [
    "# Use your previous function `calc_temps` to calculate the tmin, tavg, and tmax \n",
    "# for your trip using the previous year's data for those same dates.\n",
    "trip_temp = calc_temps('2017-08-09', '2017-08-23')\n",
    "print(calc_temps('2017-08-09', '2017-08-23'))"
   ]
  },
  {
   "cell_type": "code",
   "execution_count": null,
   "metadata": {},
   "outputs": [],
   "source": [
    "tf = pd.Dataframe({\n",
    "    \n",
    "})"
   ]
  },
  {
   "cell_type": "code",
   "execution_count": 311,
   "metadata": {},
   "outputs": [
    {
     "name": "stderr",
     "output_type": "stream",
     "text": [
      "C:\\Users\\victo\\Anaconda3\\lib\\site-packages\\matplotlib\\figure.py:445: UserWarning: Matplotlib is currently using module://ipykernel.pylab.backend_inline, which is a non-GUI backend, so cannot show the figure.\n",
      "  % get_backend())\n"
     ]
    },
    {
     "data": {
      "image/png": "[encoded data removed]",
      "text/plain": [
       "<Figure size 288x576 with 1 Axes>"
      ]
     },
     "metadata": {},
     "output_type": "display_data"
    }
   ],
   "source": [
    "# Plot the results from your previous query as a bar chart. \n",
    "# Use \"Trip Avg Temp\" as your Title\n",
    "# Use the average temperature for the y value\n",
    "# Use the peak-to-peak (tmax-tmin) value as the y error bar (yerr)\n",
    "\n",
    "fig, ax = plt.subplots(figsize=plt.figaspect(2.))\n",
    "\n",
    "tmin = trip_temp[0][0]\n",
    "tmax = trip_temp[0][2]\n",
    "xpos = 1\n",
    "\n",
    "ax.set(xticks=range(xpos), xticklabels=\"\", title=\"Trip Avg Temp\", ylabel=\"Temp (F)\")\n",
    "ax.margins(.2, .2)\n",
    "\n",
    "bar = ax.bar(x_axis, trip_temp[0][1], alpha = 0.5, color =\"coral\", yerr=tmax-tmin)\n",
    "\n",
    "fig.tight_layout()\n",
    "fig.show()\n",
    "fig.savefig(\"Images/trip-avg-temp.png\")"
   ]
  },
  {
   "cell_type": "code",
   "execution_count": 299,
   "metadata": {},
   "outputs": [
    {
     "data": {
      "text/html": [
       "<div>\n",
       "<style scoped>\n",
       "    .dataframe tbody tr th:only-of-type {\n",
       "        vertical-align: middle;\n",
       "    }\n",
       "\n",
       "    .dataframe tbody tr th {\n",
       "        vertical-align: top;\n",
       "    }\n",
       "\n",
       "    .dataframe thead th {\n",
       "        text-align: right;\n",
       "    }\n",
       "</style>\n",
       "<table border=\"1\" class=\"dataframe\">\n",
       "  <thead>\n",
       "    <tr style=\"text-align: right;\">\n",
       "      <th></th>\n",
       "      <th>station</th>\n",
       "      <th>name</th>\n",
       "      <th>latitude</th>\n",
       "      <th>longitude</th>\n",
       "      <th>elevation</th>\n",
       "      <th>total precipitation</th>\n",
       "    </tr>\n",
       "  </thead>\n",
       "  <tbody>\n",
       "    <tr>\n",
       "      <th>0</th>\n",
       "      <td>USC00516128</td>\n",
       "      <td>MANOA LYON ARBO 785.2, HI US</td>\n",
       "      <td>21.33310</td>\n",
       "      <td>-157.80250</td>\n",
       "      <td>152.4</td>\n",
       "      <td>3.15</td>\n",
       "    </tr>\n",
       "    <tr>\n",
       "      <th>1</th>\n",
       "      <td>USC00519281</td>\n",
       "      <td>WAIHEE 837.5, HI US</td>\n",
       "      <td>21.45167</td>\n",
       "      <td>-157.84889</td>\n",
       "      <td>32.9</td>\n",
       "      <td>0.51</td>\n",
       "    </tr>\n",
       "    <tr>\n",
       "      <th>2</th>\n",
       "      <td>USC00519523</td>\n",
       "      <td>WAIMANALO EXPERIMENTAL FARM, HI US</td>\n",
       "      <td>21.33556</td>\n",
       "      <td>-157.71139</td>\n",
       "      <td>19.5</td>\n",
       "      <td>0.34</td>\n",
       "    </tr>\n",
       "    <tr>\n",
       "      <th>3</th>\n",
       "      <td>USC00514830</td>\n",
       "      <td>KUALOA RANCH HEADQUARTERS 886.9, HI US</td>\n",
       "      <td>21.52130</td>\n",
       "      <td>-157.83740</td>\n",
       "      <td>7.0</td>\n",
       "      <td>0.04</td>\n",
       "    </tr>\n",
       "    <tr>\n",
       "      <th>4</th>\n",
       "      <td>USC00519397</td>\n",
       "      <td>WAIKIKI 717.2, HI US</td>\n",
       "      <td>21.27160</td>\n",
       "      <td>-157.81680</td>\n",
       "      <td>3.0</td>\n",
       "      <td>0.02</td>\n",
       "    </tr>\n",
       "  </tbody>\n",
       "</table>\n",
       "</div>"
      ],
      "text/plain": [
       "       station                                    name  latitude  longitude  \\\n",
       "0  USC00516128            MANOA LYON ARBO 785.2, HI US  21.33310 -157.80250   \n",
       "1  USC00519281                     WAIHEE 837.5, HI US  21.45167 -157.84889   \n",
       "2  USC00519523      WAIMANALO EXPERIMENTAL FARM, HI US  21.33556 -157.71139   \n",
       "3  USC00514830  KUALOA RANCH HEADQUARTERS 886.9, HI US  21.52130 -157.83740   \n",
       "4  USC00519397                    WAIKIKI 717.2, HI US  21.27160 -157.81680   \n",
       "\n",
       "   elevation  total precipitation  \n",
       "0      152.4                 3.15  \n",
       "1       32.9                 0.51  \n",
       "2       19.5                 0.34  \n",
       "3        7.0                 0.04  \n",
       "4        3.0                 0.02  "
      ]
     },
     "execution_count": 299,
     "metadata": {},
     "output_type": "execute_result"
    }
   ],
   "source": [
    "# Calculate the total amount of rainfall per weather station for your trip dates using the previous year's matching dates.\n",
    "# Sort this in descending order by precipitation amount and list the station, name, latitude, longitude, and elevation\n",
    "\n",
    "def stations_prcp(start_date, end_date):\n",
    "    \"\"\"Total amount of rainfull per weather station for a list of dates.\n",
    "    \n",
    "    Args:\n",
    "        start_date (string): A date string in the format %Y-%m-%d\n",
    "        end_date (string): A date string in the format %Y-%m-%d\n",
    "        \n",
    "    Returns:\n",
    "        Precipitation amount for each weather station during the time period\"\"\"\n",
    "\n",
    "    return session.query(Station.station, Station.name, Station.latitude, Station.longitude,\\\n",
    "        Station.elevation, func.sum(Measurement.prcp)).\\\n",
    "        filter(Measurement.date >= start_date).filter(Measurement.date <= end_date).\\\n",
    "        filter(Station.station == Measurement.station).\\\n",
    "                         group_by(Station.station).\\\n",
    "                         order_by(func.sum(Measurement.prcp).desc()).all()\n",
    "\n",
    "\n",
    "# function usage example\n",
    "results = stations_prcp('2017-08-09', '2017-08-23')\n",
    "\n",
    "df_prcp = pd.DataFrame(results, columns=['station', 'name', 'latitude', 'longitude', 'elevation', 'total precipitation'])\n",
    "df_prcp"
   ]
  },
  {
   "cell_type": "markdown",
   "metadata": {},
   "source": [
    "## Optional Challenge Assignment"
   ]
  },
  {
   "cell_type": "code",
   "execution_count": 197,
   "metadata": {},
   "outputs": [
    {
     "data": {
      "text/plain": [
       "[(62.0, 69.15384615384616, 77.0)]"
      ]
     },
     "execution_count": 197,
     "metadata": {},
     "output_type": "execute_result"
    }
   ],
   "source": [
    "# Create a query that will calculate the daily normals \n",
    "# (i.e. the averages for tmin, tmax, and tavg for all historic data matching a specific month and day)\n",
    "\n",
    "def daily_normals(date):\n",
    "    \"\"\"Daily Normals.\n",
    "    \n",
    "    Args:\n",
    "        date (str): A date string in the format '%m-%d'\n",
    "        \n",
    "    Returns:\n",
    "        A list of tuples containing the daily normals, tmin, tavg, and tmax\n",
    "    \n",
    "    \"\"\"\n",
    "    \n",
    "    sel = [func.min(Measurement.tobs), func.avg(Measurement.tobs), func.max(Measurement.tobs)]\n",
    "    return session.query(*sel).filter(func.strftime(\"%m-%d\", Measurement.date) == date).all()\n",
    "    \n",
    "daily_normals(\"01-01\")"
   ]
  },
  {
   "cell_type": "code",
   "execution_count": null,
   "metadata": {},
   "outputs": [],
   "source": [
    "# calculate the daily normals for your trip\n",
    "# push each tuple of calculations into a list called `normals`\n",
    "\n",
    "\n",
    "# Set the start and end date of the trip\n",
    "\n",
    "\n",
    "# Use the start and end date to create a range of dates\n",
    "\n",
    "\n",
    "# Stip off the year and save a list of %m-%d strings\n",
    "\n",
    "\n",
    "# Loop through the list of %m-%d strings and calculate the normals for each date\n",
    "\n"
   ]
  },
  {
   "cell_type": "code",
   "execution_count": null,
   "metadata": {},
   "outputs": [],
   "source": [
    "# Load the previous query results into a Pandas DataFrame and add the `trip_dates` range as the `date` index\n",
    "\n"
   ]
  },
  {
   "cell_type": "code",
   "execution_count": null,
   "metadata": {},
   "outputs": [],
   "source": [
    "# Plot the daily normals as an area plot with `stacked=False`\n",
    "\n"
   ]
  }
 ],
 "metadata": {
  "kernel_info": {
   "name": "python3"
  },
  "kernelspec": {
   "display_name": "Python 3",
   "language": "python",
   "name": "python3"
  },
  "language_info": {
   "codemirror_mode": {
    "name": "ipython",
    "version": 3
   },
   "file_extension": ".py",
   "mimetype": "text/x-python",
   "name": "python",
   "nbconvert_exporter": "python",
   "pygments_lexer": "ipython3",
   "version": "3.7.1"
  },
  "nteract": {
   "version": "0.12.3"
  },
  "varInspector": {
   "cols": {
    "lenName": 16,
    "lenType": 16,
    "lenVar": 40
   },
   "kernels_config": {
    "python": {
     "delete_cmd_postfix": "",
     "delete_cmd_prefix": "del ",
     "library": "var_list.py",
     "varRefreshCmd": "print(var_dic_list())"
    },
    "r": {
     "delete_cmd_postfix": ") ",
     "delete_cmd_prefix": "rm(",
     "library": "var_list.r",
     "varRefreshCmd": "cat(var_dic_list()) "
    }
   },
   "types_to_exclude": [
    "module",
    "function",
    "builtin_function_or_method",
    "instance",
    "_Feature"
   ],
   "window_display": false
  }
 },
 "nbformat": 4,
 "nbformat_minor": 2
}
